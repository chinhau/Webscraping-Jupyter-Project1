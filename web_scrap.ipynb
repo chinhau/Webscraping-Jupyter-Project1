{
 "cells": [
  {
   "cell_type": "code",
   "execution_count": 1,
   "metadata": {},
   "outputs": [],
   "source": [
    "# Import relevant libraries\n",
    "import re\n",
    "import requests \n",
    "import numpy as np\n",
    "import pandas as pd\n",
    "import lxml.html as lh\n",
    "from bs4 import BeautifulSoup"
   ]
  },
  {
   "cell_type": "code",
   "execution_count": 2,
   "metadata": {},
   "outputs": [],
   "source": [
    "# Get Url Function \n",
    "def get_url(num):\n",
    "    return \"https://eapps.naic.org/cis/financialReport.do?entityId=%d\" % num"
   ]
  },
  {
   "cell_type": "code",
   "execution_count": 3,
   "metadata": {},
   "outputs": [],
   "source": [
    "# Define DataFrame\n",
    "columns = ['number', 'company_name', 'business_type', 'home_office', 'url']\n",
    "df = pd.DataFrame(columns=columns)"
   ]
  },
  {
   "cell_type": "code",
   "execution_count": 7,
   "metadata": {},
   "outputs": [
    {
     "name": "stdout",
     "output_type": "stream",
     "text": [
      "13\n",
      "89\n",
      "90\n"
     ]
    }
   ],
   "source": [
    "# Real Number from 0 to 15000\n",
    "for number in range(0,100):\n",
    "    url_ = get_url(number)\n",
    "    req  = requests.get(url_)\n",
    "    if \"status=yes\" in req.text:\n",
    "        soup = BeautifulSoup(req.text, 'lxml')\n",
    "        tds1 = soup.findAll(\"td\", {\"colspan\": 3})\n",
    "        sub1 = tds1[0].text\n",
    "        sub1 = sub1.replace('\\n','')\n",
    "        sub1 = sub1.replace('  ','')\n",
    "        sub2 = tds1[1].text.replace('Business Type:\\n','')\n",
    "        sub2 = sub2.replace('\\n','')\n",
    "        sub2 = sub2.replace('  ','')\n",
    "        tds2 = soup.findAll(\"td\", {\"colspan\": 2})\n",
    "        sub3 = tds2[0].text.replace('Home Office:\\n','')\n",
    "        sub3 = sub3.replace('\\n','')\n",
    "        sub3 = sub3.replace('  ','')\n",
    "        row = pd.Series({'number':number, 'company_name':sub1, 'business_type':sub2, 'home_office':sub3, 'url':url_})\n",
    "        df = df.append(row, ignore_index=True)\n",
    "        print(number)"
   ]
  },
  {
   "cell_type": "code",
   "execution_count": 8,
   "metadata": {},
   "outputs": [],
   "source": [
    "df.to_csv('insurance_web_scrap.csv')"
   ]
  }
 ],
 "metadata": {
  "kernelspec": {
   "display_name": "Python [default]",
   "language": "python",
   "name": "python3"
  },
  "language_info": {
   "codemirror_mode": {
    "name": "ipython",
    "version": 3
   },
   "file_extension": ".py",
   "mimetype": "text/x-python",
   "name": "python",
   "nbconvert_exporter": "python",
   "pygments_lexer": "ipython3",
   "version": "3.6.4"
  }
 },
 "nbformat": 4,
 "nbformat_minor": 2
}
